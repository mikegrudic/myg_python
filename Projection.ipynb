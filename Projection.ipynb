{
 "cells": [
  {
   "cell_type": "code",
   "execution_count": 31,
   "metadata": {
    "collapsed": false
   },
   "outputs": [],
   "source": [
    "import numpy as np\n",
    "from numba import jit, vectorize, float32, float64, autojit\n",
    "from scipy.spatial import cKDTree\n",
    "from matplotlib import pyplot as plt\n",
    "\n",
    "def GetHsml(coords, des_ngb=32, boxsize=False):\n",
    "    if not boxsize:\n",
    "        tree = cKDTree(coords)\n",
    "    else:\n",
    "        tree = cKDTree((coords+boxsize/2)%boxsize, boxsize=boxsize)\n",
    "    neighbor_dists, neighbors = tree.query(coords, des_ngb)\n",
    "    if len(coords) < des_ngb:\n",
    "        return np.ones(len(coords))*neighbor_dists.max()\n",
    "    hsml = GetHsmlWork(neighbors, neighbor_dists)\n",
    "    return hsml\n",
    "\n",
    "@jit\n",
    "def GetHsmlWork(neighbors, neighbor_dists):\n",
    "    N, des_ngb = neighbor_dists.shape\n",
    "    hsml = np.zeros(N)\n",
    "    n_ngb = 0.0\n",
    "    for i in xrange(N):\n",
    "        upper = neighbor_dists[i,des_ngb-1]/0.6\n",
    "        lower = neighbor_dists[i,1]\n",
    "        error = 1e100\n",
    "        count = 0\n",
    "        while error > 1e-3:\n",
    "            h = (upper + lower)/2\n",
    "            n_ngb=0.0\n",
    "            dngb=0.0\n",
    "            q = 0.0\n",
    "            for j in xrange(des_ngb):\n",
    "                q = neighbor_dists[i, j]/h\n",
    "                if q <= 0.5:\n",
    "                    n_ngb += (1 - 6*q**2 + 6*q**3)\n",
    "                elif q <= 1.0:\n",
    "                    n_ngb += 2*(1-q)**3\n",
    "            n_ngb *= 32./3\n",
    "            if n_ngb > des_ngb:\n",
    "                upper = h\n",
    "            else:\n",
    "                lower = h\n",
    "            error = np.fabs(n_ngb-des_ngb)\n",
    "        hsml[i] = h\n",
    "    return hsml\n",
    "\n",
    "@vectorize([float32(float32), float64(float64)])\n",
    "def Kernel3D(q):\n",
    "    if q <= 0.5:\n",
    "        return 1.8189136353359467 * (1 - 6*q**2 + 6*q**3)\n",
    "    elif q <= 1.0:\n",
    "        return 1.8189136353359467 * 2 * (1-q)**3\n",
    "    else: return 0.0\n",
    "    \n",
    "@vectorize([float32(float32), float64(float64)])\n",
    "def Kernel2D(q):\n",
    "    if q <= 0.5:\n",
    "        return 1.8189136353359467 * (1 - 6*q**2 + 6*q**3)\n",
    "    elif q <= 1.0:\n",
    "        return 1.8189136353359467 * 2 * (1-q)**3\n",
    "    else: return 0.0\n",
    "\n",
    "@jit#(\"f8[:,:,:](f8[:,:], f8[:], i8, f8[:], f8)\")\n",
    "def GridDensity(data, x, h, gridres, L):\n",
    "    if len(data.shape) == 1:\n",
    "        data  = np.array([data,])\n",
    "    grid = np.zeros((gridres,gridres,len(data)))\n",
    "    nfields = len(data)\n",
    "    dx = L/(gridres-1)\n",
    "    N = len(x)\n",
    "    for i in xrange(N):\n",
    "        xs = x[i] + L/2\n",
    "        hs = h[i]\n",
    "\n",
    "        gxmin = max(int((xs[0] - hs)/dx + 0.5),0)\n",
    "        gxmax = min(int((xs[0] + hs)/dx) + 1,gridres)\n",
    "        gymin = max(int((xs[1] - hs)/dx + 0.5), 0)\n",
    "        gymax = min(int((xs[1] + hs)/dx) + 1, gridres)\n",
    "        \n",
    "        for gx in xrange(gxmin, gxmax):\n",
    "            for gy in xrange(gymin,gymax):\n",
    "                kernel = Kernel2D(((xs[0] - gx*dx)**2 + (xs[1] - gy*dx)**2)**0.5 / hs)\n",
    "                for k in xrange(nfields):\n",
    "                    grid[gx,gy,k] += data[k,i]*kernel / hs**2\n",
    "                    \n",
    "    return grid\n",
    "    \n",
    "@jit(\"f8[:,:](f8[:], f8[:], f8[:], i8, f8)\")\n",
    "def IntegrateSurfaceDensity(mass, x, h, gridres, L):\n",
    "    grid = np.zeros((gridres,gridres))\n",
    "    dx = L/(gridres-1)\n",
    "    N = len(x)\n",
    "    for i in xrange(N):\n",
    "        xs = x[i] + L/2\n",
    "        hs = h[i]\n",
    "        mh2 = mass[i]/hs**2\n",
    "\n",
    "        gxmin = max(int((xs[0] - hs)/dx+1),0)\n",
    "        gxmax = min(int((xs[0] + hs)/dx),gridres-1)\n",
    "        gymin = max(int((xs[1] - hs)/dx+1), 0)\n",
    "        gymax = min(int((xs[1] + hs)/dx), gridres-1)\n",
    "        \n",
    "        for gx in xrange(gxmin, gxmax+1):\n",
    "            for gy in xrange(gymin,gymax+1):\n",
    "                kernel = Kernel2D(((xs[0] - gx*dx)**2 + (xs[1] - gy*dx)**2)**0.5 / hs)\n",
    "                grid[gx,gy] +=  kernel * mh2\n",
    "                \n",
    "    return grid\n",
    "\n",
    "@jit(\"f8[:,:](f8[:], f8[:], f8[:], i8, f8)\")\n",
    "def IntegrateSurfaceDensityPeriodic(mass, x, h, gridres, L):\n",
    "    x = (x-L/2)%L\n",
    "    grid = np.zeros((gridres,gridres))\n",
    "    dx = L/(gridres-1)\n",
    "    N = len(x)\n",
    "    for i in xrange(N):\n",
    "        xs = x[i]\n",
    "        hs = h[i]\n",
    "        mh2 = mass[i]/hs**2\n",
    "\n",
    "        gxmin = int((xs[0] - hs)/dx + 1)\n",
    "        gxmax = int((xs[0] + hs)/dx)\n",
    "        gymin = int((xs[1] - hs)/dx + 1)\n",
    "        gymax = int((xs[1] + hs)/dx)\n",
    "        \n",
    "        for gx in xrange(gxmin, gxmax+1):\n",
    "            for gy in xrange(gymin,gymax+1):\n",
    "                ix = gx%gridres\n",
    "                iy = gy%gridres\n",
    "                delta_x = np.abs(xs[0] - ix*dx)\n",
    "                delta_x = min(delta_x, L-delta_x)\n",
    "                delta_y = np.abs(xs[1] - iy*dx)\n",
    "                delta_y = min(delta_y, L-delta_y)\n",
    "                kernel = Kernel2D((delta_x**2 + delta_y**2)**0.5 / hs)\n",
    "                grid[ix,iy] +=  kernel * mh2\n",
    "                 \n",
    "    return grid"
   ]
  },
  {
   "cell_type": "code",
   "execution_count": null,
   "metadata": {
    "collapsed": false
   },
   "outputs": [],
   "source": []
  },
  {
   "cell_type": "code",
   "execution_count": null,
   "metadata": {
    "collapsed": false
   },
   "outputs": [],
   "source": [
    "N = 30**3\n",
    "#x = np.mgrid[0:0.99:30j,0:0.99:30j, 0:0.99:30j] + 0.5\n",
    "#x = np.c_[x[0].flatten(),x[1].flatten(),x[2].flatten()]\n",
    "\n",
    "#x = np.random.rand(N, 3)\n",
    "#h = GetHsml(x,des_ngb=32, boxsize=1.0)\n",
    "x = np.array([[0.0,0.0,0.0]])\n",
    "h = np.array([0.25])\n",
    "gridres = 100\n",
    "h = np.clip(h,2./gridres,1e100)\n",
    "L = 1.0\n",
    "data = np.ones(N)/N\n",
    "\n",
    "g1= IntegrateSurfaceDensityPeriodic(data, x, h, gridres, L)\n",
    "g2= IntegrateSurfaceDensityPeriodic(data, x-0.5, h, gridres, L)\n",
    "#print (g - g[:,::-1]).std()\n",
    "\n",
    "plt.imshow(g2,cmap='viridis')\n",
    "plt.colorbar()\n",
    "plt.show()"
   ]
  },
  {
   "cell_type": "code",
   "execution_count": 31,
   "metadata": {
    "collapsed": false
   },
   "outputs": [
    {
     "name": "stdout",
     "output_type": "stream",
     "text": [
      "0.0\n"
     ]
    }
   ],
   "source": [
    "print (g-g_orig).std()"
   ]
  },
  {
   "cell_type": "code",
   "execution_count": 123,
   "metadata": {
    "collapsed": false
   },
   "outputs": [],
   "source": [
    "x = np.linspace(0,1,100)\n",
    "plt.plot(x, Kernel2D(x))\n",
    "plt.plot(x,1.8189136353359467*np.exp(-8*x**2 / 2))\n",
    "plt.show()"
   ]
  },
  {
   "cell_type": "code",
   "execution_count": 3,
   "metadata": {
    "collapsed": false
   },
   "outputs": [],
   "source": []
  },
  {
   "cell_type": "code",
   "execution_count": null,
   "metadata": {
    "collapsed": true
   },
   "outputs": [],
   "source": []
  },
  {
   "cell_type": "code",
   "execution_count": null,
   "metadata": {
    "collapsed": true
   },
   "outputs": [],
   "source": []
  }
 ],
 "metadata": {
  "kernelspec": {
   "display_name": "Python 2",
   "language": "python",
   "name": "python2"
  },
  "language_info": {
   "codemirror_mode": {
    "name": "ipython",
    "version": 2
   },
   "file_extension": ".py",
   "mimetype": "text/x-python",
   "name": "python",
   "nbconvert_exporter": "python",
   "pygments_lexer": "ipython2",
   "version": "2.7.11"
  }
 },
 "nbformat": 4,
 "nbformat_minor": 0
}
