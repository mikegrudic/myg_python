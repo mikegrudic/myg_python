{
 "cells": [
  {
   "cell_type": "code",
   "execution_count": 10,
   "metadata": {
    "collapsed": false
   },
   "outputs": [],
   "source": [
    "from numba import jit, vectorize, float32, float64\n",
    "import numpy as np\n",
    "from scipy import spatial, integrate, optimize\n",
    "from matplotlib import pyplot as plt\n",
    "from SmoothingLength import HsmlIter\n",
    "\n",
    "normdict = {1: 4./3, 3: 8./np.pi, 2: 40/(7*np.pi)}\n",
    "\n",
    "@vectorize([float32(float32), float64(float64)])\n",
    "def Kernel(q):\n",
    "    if q <= 0.5:\n",
    "        return 1 - 6*q**2 + 6*q**3\n",
    "    elif q <= 1.0:\n",
    "        return 2 * (1-q)**3\n",
    "    else: return 0.0\n",
    "    \n",
    "@vectorize([float32(float32), float64(float64)])\n",
    "def DKernel(q):\n",
    "    if q <= 0.5:\n",
    "        return -12*q + 18*q*q\n",
    "    elif q <= 1.0:\n",
    "        return -6 * (1-q)**2\n",
    "    else: return 0.0\n",
    "\n",
    "@vectorize([float32(float32), float64(float64)])\n",
    "def Kernel3D(q):\n",
    "    if q <= 0.5:\n",
    "        return 2.5464790894703255 * (1 - 6*q**2 + 6*q**3)\n",
    "    elif q <= 1.0:\n",
    "        return 2.5464790894703255 * 2 * (1-q)**3\n",
    "    else: return 0.0\n",
    "    \n",
    "@vectorize([float32(float32), float64(float64)])\n",
    "def DKernel3D(q):\n",
    "    if q <= 0.5:\n",
    "        return 2.5464790894703255 * (-12*q + 18*q**2)\n",
    "    elif q <= 1.0:\n",
    "        return -2.5464790894703255 * 6 * (1-q)**2\n",
    "    else: return 0.0\n",
    "    \n",
    "@jit\n",
    "def HydroForce(x, m, f, K, dK, rho, h, ngb, ngbdist):\n",
    "    A = 1.0\n",
    "    N, dim = x.shape\n",
    "    Nngb = ngbdist.shape[1]\n",
    "    a = np.zeros_like(x)\n",
    "    for i in xrange(N):\n",
    "        ngbi = ngb[i]\n",
    "        xngb = x[ngbi]\n",
    "        mngb = m[ngbi]\n",
    "        hngb = h[ngbi]\n",
    "        rngb = ngbdist[i]\n",
    "        fngb = f[ngbi]\n",
    "        Ki = K[i]\n",
    "        dKi = dK[i]\n",
    "        hi = h[i]\n",
    "        fi = f[i]\n",
    "        rhoi = rho[i]\n",
    "        for j in xrange(1,Nngb):\n",
    "            atot = mngb[j] * (fi * A * rhoi**(gamma-2.0) * dKi[j] / hi**(dim+1)\n",
    "            + fngb[j] * A * rho[ngbi[j]]**(gamma-2.0) * norm*DKernel(rngb[j]/h[ngbi[j]]) / h[ngbi[j]]**(dim+1))\n",
    "            #atot = mngb[j] * (rhoi**(gamma-2.0) + rho[ngbi[j]]**(gamma-2.0)) * dKi[j] / hi**4.0\n",
    "            for k in xrange(dim):\n",
    "                dx1 = xngb[j,k] - xngb[0,k]\n",
    "                dx2 = -np.sign(dx1) * (1.0 - np.abs(dx1))\n",
    "                if np.abs(dx1) < np.abs(dx2):\n",
    "                    dx = dx1\n",
    "                else:\n",
    "                    dx = dx2\n",
    "                a[i,k] += atot*dx/rngb[j]\n",
    "                \n",
    "    return a\n",
    "\n",
    "\n",
    "@jit\n",
    "def KernelSum(f,r,h):\n",
    "    return np.sum(f*norm*Kernel(r/h)/h**dim)"
   ]
  },
  {
   "cell_type": "code",
   "execution_count": 11,
   "metadata": {
    "collapsed": false
   },
   "outputs": [
    {
     "name": "stdout",
     "output_type": "stream",
     "text": [
      "601\n"
     ]
    }
   ],
   "source": [
    "N=  100\n",
    "#x = np.random.rand(N,1)**0.5\n",
    "#x = (np.arange(32)/32.)\n",
    "#x = x + 0.001*np.sin(2*np.pi*x)\n",
    "#y = np.arange(32)/32.\n",
    "#x,y,z = np.meshgrid(x,y,y)\n",
    "#x = np.c_[x.flatten(),y.flatten(),z.flatten()]\n",
    "#x = (x)%1.0\n",
    "dim = 1\n",
    "norm = normdict[dim]\n",
    "dtmin = (5./3)**0.5 / N /10\n",
    "\n",
    "T = 1./(5./3)**0.5\n",
    "nsteps = int(T/dtmin+1)\n",
    "print nsteps\n",
    "dt = T/nsteps\n",
    "m = np.ones(N)/N\n",
    "gamma = 5./3\n",
    "x = np.array([np.arange(0,N)/float(N),]).T\n",
    "\n",
    "x += 0.001*np.sin(2*np.pi*x)\n",
    "x = x % 1.0\n",
    "#tree = spatial.cKDTree(x,boxsize=1.0)\n",
    "des_ngb = 8\n",
    "v = np.zeros_like(x)\n",
    "tree = spatial.cKDTree(x, boxsize=1.)\n",
    "ngbdist, ngb = tree.query(x,des_ngb)\n",
    "h = HsmlIter(ngb,ngbdist, error_norm=1e-12,dim=1)\n",
    "rho0 = m * des_ngb / (2*h)\n",
    "\n",
    "@jit\n",
    "def HForce(x, m, h):\n",
    "    N, dim = x.shape\n",
    "    tree = spatial.cKDTree(x, boxsize=1.)\n",
    "    ngbdist, ngb = tree.query(x, des_ngb)\n",
    "    h = HsmlIter(ngb,ngbdist, error_norm=1e-12,dim=dim)\n",
    "    for i in xrange(N):\n",
    "        rho = m[i] * des_ngb / (2*h)\n",
    "        fi = 0\n",
    "        q = ngbdist[i]/h[i]\n",
    "        K = norm*Kernel(q)\n",
    "        dK = norm*Kernel(q)\n",
    "        for j in xrange(des_ngb):\n",
    "            fi += -m[ngb[i,j]] * h[i]**-(dim+1) * (dK * q )"
   ]
  },
  {
   "cell_type": "code",
   "execution_count": 12,
   "metadata": {
    "collapsed": true
   },
   "outputs": [],
   "source": [
    "tree = spatial.cKDTree(x, boxsize=1.)\n",
    "ngbdist, ngb = tree.query(x,des_ngb)\n",
    "h = HsmlIter(ngb,ngbdist, error_norm=1e-12,dim=1)\n",
    "rho = m * des_ngb / (2*h)\n",
    "q = ngbdist/h[:,np.newaxis]\n",
    "K = norm*Kernel(q)\n",
    "dK = norm*DKernel(q)\n",
    "FI = (1 + h / (3*rho) * np.sum((-m[:,np.newaxis]*h[:,np.newaxis]**-(dim+1) * (dK *q + dim*K)),axis=1))**-1\n",
    "F = HydroForce(x,m,FI, K, dK, rho, h, ngb, ngbdist)"
   ]
  },
  {
   "cell_type": "code",
   "execution_count": 13,
   "metadata": {
    "collapsed": false
   },
   "outputs": [
    {
     "name": "stdout",
     "output_type": "stream",
     "text": [
      "7.69255331935e-06\n"
     ]
    }
   ],
   "source": [
    "e1 = []\n",
    "e2 = []\n",
    "#plt.scatter(x, -np.gradient(rho**gamma)/np.gradient(x[:,0]) / rho * 100.*dt)\n",
    "for i in xrange(nsteps*2):\n",
    "    x += v * dt + F * dt**2 / 2\n",
    "    x[:,0] = x[:,0]%1.0%1.0\n",
    "    v += F * dt/2\n",
    "    tree = spatial.cKDTree(x, boxsize=1.)\n",
    "    ngbdist, ngb = tree.query(x,des_ngb)\n",
    "    h = HsmlIter(ngb,ngbdist, error_norm=1e-12,dim=1)\n",
    "    rho = m * des_ngb / (2*h)\n",
    "    q = ngbdist/h[:,np.newaxis]\n",
    "    K = norm*Kernel(q)\n",
    "    dK = norm*DKernel(q)\n",
    "    FI = (1 + h / (3*rho) * np.sum((-m[:,np.newaxis]*h[:,np.newaxis]**-(dim+1) * (dK *q + dim*K)),axis=1))**-1\n",
    "    F = HydroForce(x,m,FI, K, dK, rho, h, ngb, ngbdist)\n",
    "    v += F * dt/2\n",
    "    e1.append(np.sum(0.5*m*v**2))\n",
    "    e2.append(np.sum(rho**(5./3) * 3./2 * m / 2 / h))\n",
    "    #e.append(np.abs(np.sum(F,axis=0)))\n",
    "    #e.append(np.sum(0.5*m*v**2) + np.sum(3./2 * rho**(5./3)))\n",
    "#plt.scatter(np.arange(100), np.array(e) - e[0])\n",
    "#plt.yscale('log')\n",
    "\n",
    "plt.plot((np.array(e1) + np.array(e2))/np.array(e2))\n",
    "plt.show()\n",
    "print (rho-rho0).std()\n",
    "#plt.yscale('log')\n",
    "#plt.ylim(0.1, 10)\n",
    "#plt.scatter(x[:,0],np.gradient(rho**gamma)/np.gradient(x[:,0]) / rho, color='blue')\n",
    "\n",
    "#if i % (nsteps/10)==0:\n",
    "    #if i%10==0:\n",
    "    #    plt.scatter(x[:,0],v[:,0])\n",
    "    #\n",
    "#plt.scatter(x[:,0][(x[:,1]==0.0)*(x[:,2]==0.0)], )\n",
    "        #plt.show()"
   ]
  },
  {
   "cell_type": "code",
   "execution_count": 149,
   "metadata": {
    "collapsed": false
   },
   "outputs": [
    {
     "data": {
      "text/plain": [
       "1.0"
      ]
     },
     "execution_count": 149,
     "metadata": {},
     "output_type": "execute_result"
    }
   ],
   "source": [
    "-1.85820065e-18 % 1.0"
   ]
  },
  {
   "cell_type": "code",
   "execution_count": null,
   "metadata": {
    "collapsed": false
   },
   "outputs": [],
   "source": [
    "KernelSum(m[ngb[0]], ngbdist[0], h[0])/ rho[0]"
   ]
  },
  {
   "cell_type": "code",
   "execution_count": null,
   "metadata": {
    "collapsed": false
   },
   "outputs": [],
   "source": [
    "plt.loglog(np.logspace(2,7,5), (392e-6,5e-3,64e-3,0.917,13.7))\n",
    "plt.loglog(np.logspace(2,7,5), 392e-6*np.logspace(2,7,5)*np.log10(np.logspace(2,7,5)/100))\n",
    "plt.show()"
   ]
  },
  {
   "cell_type": "code",
   "execution_count": null,
   "metadata": {
    "collapsed": false
   },
   "outputs": [],
   "source": [
    "optimize.curve_fit(lambda x, a, b: a*x + b, np.linspace(2,7,5), np.log10((392e-6,5e-3,64e-3,0.917,13.7)))"
   ]
  },
  {
   "cell_type": "code",
   "execution_count": null,
   "metadata": {
    "collapsed": false
   },
   "outputs": [],
   "source": [
    "plt.plot(np.linspace(0,1,100), DKernel3D(np.linspace(0,1,100))); plt.show()"
   ]
  },
  {
   "cell_type": "code",
   "execution_count": null,
   "metadata": {
    "collapsed": false
   },
   "outputs": [],
   "source": [
    "(10**6/10**2)**2"
   ]
  },
  {
   "cell_type": "code",
   "execution_count": null,
   "metadata": {
    "collapsed": true
   },
   "outputs": [],
   "source": []
  }
 ],
 "metadata": {
  "kernelspec": {
   "display_name": "Python 2",
   "language": "python",
   "name": "python2"
  },
  "language_info": {
   "codemirror_mode": {
    "name": "ipython",
    "version": 2
   },
   "file_extension": ".py",
   "mimetype": "text/x-python",
   "name": "python",
   "nbconvert_exporter": "python",
   "pygments_lexer": "ipython2",
   "version": "2.7.11"
  }
 },
 "nbformat": 4,
 "nbformat_minor": 0
}
