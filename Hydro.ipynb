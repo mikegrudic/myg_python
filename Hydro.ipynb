{
 "cells": [
  {
   "cell_type": "code",
   "execution_count": null,
   "metadata": {
    "collapsed": true
   },
   "outputs": [],
   "source": [
    "from numba import jit, vectorize, float32, float64,guvectorize\n",
    "import numpy as np\n",
    "from scipy import spatial, integrate, optimize\n",
    "from matplotlib import pyplot as plt\n",
    "from SmoothingLength import HsmlIter\n",
    "\n",
    "normdict = {1: 4./3, 3: 8./np.pi, 2: 40/(7*np.pi)}\n",
    "\n",
    "@vectorize([float32(float32), float64(float64)])\n",
    "def Kernel(q):\n",
    "    if q <= 0.5:\n",
    "        return 1 - 6*q**2 + 6*q**3\n",
    "    elif q <= 1.0:\n",
    "        return 2 * (1-q)**3\n",
    "    else: return 0.0\n",
    "\n",
    "@vectorize([float32(float32), float64(float64)])\n",
    "def DKernel(q):\n",
    "    if q <= 0.5:\n",
    "        return -12*q + 18*q*q\n",
    "    elif q <= 1.0:\n",
    "        return -6 * (1-q)**2\n",
    "    else: return 0.0\n",
    "\n",
    "@vectorize([float32(float32), float64(float64)])\n",
    "def Kernel3D(q):\n",
    "    if q <= 0.5:\n",
    "        return 2.5464790894703255 * (1 - 6*q**2 + 6*q**3)\n",
    "    elif q <= 1.0:\n",
    "        return 2.5464790894703255 * 2 * (1-q)**3\n",
    "    else: return 0.0\n",
    "    \n",
    "@vectorize([float32(float32), float64(float64)])\n",
    "def DKernel3D(q):\n",
    "    if q <= 0.5:\n",
    "        return 2.5464790894703255 * (-12*q + 18*q**2)\n",
    "    elif q <= 1.0:\n",
    "        return -2.5464790894703255 * 6 * (1-q)**2\n",
    "    else: return 0.0\n",
    "\n",
    "@jit\n",
    "def HydroForce(x, m, f, K, dK, rho, h, ngb, ngbdist):\n",
    "    A = 1.0\n",
    "    N, dim = x.shape\n",
    "    Nngb = ngbdist.shape[1]\n",
    "    a = np.zeros_like(x)\n",
    "    for i in xrange(N):\n",
    "        ngbi = ngb[i]\n",
    "        xngb = x[ngbi]\n",
    "        mngb = m[ngbi]\n",
    "        hngb = h[ngbi]\n",
    "        rngb = ngbdist[i]\n",
    "        fngb = f[ngbi]\n",
    "        Ki = K[i]\n",
    "        dKi = dK[i]\n",
    "        hi = h[i]\n",
    "        fi = f[i]\n",
    "        rhoi = rho[i]\n",
    "        for j in xrange(1,Nngb):\n",
    "            atot = mngb[j] * (fi * A * rhoi**(gamma-2.0) * dKi[j] / hi**(dim+1)\n",
    "            + fngb[j] * A * rho[ngbi[j]]**(gamma-2.0) * norm*DKernel(rngb[j]/h[ngbi[j]]) / h[ngbi[j]]**(dim+1))\n",
    "            #atot = mngb[j] * (rhoi**(gamma-2.0) + rho[ngbi[j]]**(gamma-2.0)) * dKi[j] / hi**4.0\n",
    "            for k in xrange(dim):\n",
    "                dx1 = xngb[j,k] - xngb[0,k]\n",
    "                dx2 = -np.sign(dx1) * (1.0 - np.abs(dx1))\n",
    "                if np.abs(dx1) < np.abs(dx2):\n",
    "                    dx = dx1\n",
    "                else:\n",
    "                    dx = dx2\n",
    "                a[i,k] += atot*dx/rngb[j]\n",
    "                \n",
    "    return a\n",
    "\n",
    "\n",
    "@jit\n",
    "def KernelSum(f,r,h):\n",
    "    return np.sum(f*norm*Kernel(r/h)/h**dim)"
   ]
  },
  {
   "cell_type": "code",
   "execution_count": null,
   "metadata": {
    "collapsed": true
   },
   "outputs": [],
   "source": [
    "N=  100\n",
    "#x = np.random.rand(N,1)**0.5\n",
    "#x = (np.arange(32)/32.)\n",
    "#x = x + 0.001*np.sin(2*np.pi*x)\n",
    "#y = np.arange(32)/32.\n",
    "#x,y,z = np.meshgrid(x,y,y)\n",
    "#x = np.c_[x.flatten(),y.flatten(),z.flatten()]\n",
    "#x = (x)%1.0\n",
    "dim = 1\n",
    "norm = normdict[dim]\n",
    "dtmin = (5./3)**0.5 / N /10\n",
    "\n",
    "T = 1./(5./3)**0.5\n",
    "nsteps = int(T/dtmin+1)\n",
    "print nsteps\n",
    "dt = T/nsteps\n",
    "m = np.ones(N)/N\n",
    "gamma = 5./3\n",
    "x = np.array([np.arange(0,N)/float(N),]).T\n",
    "\n",
    "x += 0.001*np.sin(2*np.pi*x)\n",
    "x = x % 1.0\n",
    "#tree = spatial.cKDTree(x,boxsize=1.0)\n",
    "des_ngb = 8\n",
    "v = np.zeros_like(x)\n",
    "tree = spatial.cKDTree(x, boxsize=1.)\n",
    "ngbdist, ngb = tree.query(x,des_ngb)\n",
    "h = HsmlIter(ngb,ngbdist, error_norm=1e-12,dim=1)\n",
    "rho0 = m * des_ngb / (2*h)\n",
    "\n",
    "@jit\n",
    "def HForce(x, m, h):\n",
    "    N, dim = x.shape\n",
    "    tree = spatial.cKDTree(x, boxsize=1.)\n",
    "    ngbdist, ngb = tree.query(x, des_ngb)\n",
    "    h = HsmlIter(ngb,ngbdist, error_norm=1e-12,dim=dim)\n",
    "    for i in xrange(N):\n",
    "        rho = m[i] * des_ngb / (2*h)\n",
    "        fi = 0\n",
    "        q = ngbdist[i]/h[i]\n",
    "        K = norm*Kernel(q)\n",
    "        dK = norm*Kernel(q)\n",
    "        for j in xrange(des_ngb):\n",
    "            fi += -m[ngb[i,j]] * h[i]**-(dim+1) * (dK * q )"
   ]
  },
  {
   "cell_type": "code",
   "execution_count": null,
   "metadata": {
    "collapsed": false
   },
   "outputs": [],
   "source": [
    "tree = spatial.cKDTree(x, boxsize=1.)\n",
    "ngbdist, ngb = tree.query(x,des_ngb)\n",
    "h = HsmlIter(ngb,ngbdist, error_norm=1e-12,dim=1)\n",
    "rho = m * des_ngb / (2*h)\n",
    "q = ngbdist/h[:,np.newaxis]\n",
    "K = norm*Kernel(q)\n",
    "dK = norm*DKernel(q)\n",
    "FI = (1 + h / (3*rho) * np.sum((-m[:,np.newaxis]*h[:,np.newaxis]**-(dim+1) * (dK *q + dim*K)),axis=1))**-1\n",
    "F = HydroForce(x,m,FI, K, dK, rho, h, ngb, ngbdist)"
   ]
  },
  {
   "cell_type": "code",
   "execution_count": null,
   "metadata": {
    "collapsed": true
   },
   "outputs": [],
   "source": [
    "e1 = []\n",
    "e2 = []\n",
    "#plt.scatter(x, -np.gradient(rho**gamma)/np.gradient(x[:,0]) / rho * 100.*dt)\n",
    "for i in xrange(nsteps*2):\n",
    "    x += v * dt + F * dt**2 / 2\n",
    "    x[:,0] = x[:,0]%1.0%1.0\n",
    "    v += F * dt/2\n",
    "    tree = spatial.cKDTree(x, boxsize=1.)\n",
    "    ngbdist, ngb = tree.query(x,des_ngb)\n",
    "    h = HsmlIter(ngb,ngbdist, error_norm=1e-12,dim=1)\n",
    "    rho = m * des_ngb / (2*h)\n",
    "    q = ngbdist/h[:,np.newaxis]\n",
    "    K = norm*Kernel(q)\n",
    "    dK = norm*DKernel(q)\n",
    "    FI = (1 + h / (3*rho) * np.sum((-m[:,np.newaxis]*h[:,np.newaxis]**-(dim+1) * (dK *q + dim*K)),axis=1))**-1\n",
    "    F = HydroForce(x,m,FI, K, dK, rho, h, ngb, ngbdist)\n",
    "    v += F * dt/2\n",
    "    e1.append(np.sum(0.5*m*v**2))\n",
    "    e2.append(np.sum(rho**(5./3) * 3./2 * m / 2 / h))\n",
    "    #e.append(np.abs(np.sum(F,axis=0)))\n",
    "    #e.append(np.sum(0.5*m*v**2) + np.sum(3./2 * rho**(5./3)))\n",
    "#plt.scatter(np.arange(100), np.array(e) - e[0])\n",
    "#plt.yscale('log')\n",
    "\n",
    "plt.plot((np.array(e1) + np.array(e2))/np.array(e2))\n",
    "plt.show()\n",
    "print (rho-rho0).std()\n",
    "#plt.yscale('log')\n",
    "#plt.ylim(0.1, 10)\n",
    "#plt.scatter(x[:,0],np.gradient(rho**gamma)/np.gradient(x[:,0]) / rho, color='blue')\n",
    "\n",
    "#if i % (nsteps/10)==0:\n",
    "    #if i%10==0:\n",
    "    #    plt.scatter(x[:,0],v[:,0])\n",
    "    #\n",
    "#plt.scatter(x[:,0][(x[:,1]==0.0)*(x[:,2]==0.0)], )\n",
    "        #plt.show()"
   ]
  },
  {
   "cell_type": "code",
   "execution_count": null,
   "metadata": {
    "collapsed": true
   },
   "outputs": [],
   "source": [
    "des_ngb = 32\n",
    "x = np.arange(200)/200.\n",
    "x, y = np.meshgrid(x, x)\n",
    "x = np.c_[x.flatten(), y.flatten()]\n",
    "tree = spatial.cKDTree(x, boxsize=1.0)\n",
    "ngbdist, ngb = tree.query(x, des_ngb)\n",
    "h = HsmlIter(ngb, ngbdist, error_norm=1e-12, dim=2)\n",
    "#rhos.append(np.mean(des_ngb / 200.**2 / (np.pi*h**2)))\n",
    "    \n",
    "#pt.plot(range(10,120), rhos)\n",
    "#plt.show()"
   ]
  },
  {
   "cell_type": "code",
   "execution_count": null,
   "metadata": {
    "collapsed": true
   },
   "outputs": [],
   "source": [
    "#@guvectorize([(float64[:], float64)], '(n),()')\n",
    "@vectorize([float32(float32,float32), float64(float64,float64)])\n",
    "def Weights(ngbdist, h):\n",
    "    k = Kernel(ngbdist/h)\n",
    "    return np.sum(k,axis=0)\n"
   ]
  },
  {
   "cell_type": "code",
   "execution_count": 17,
   "metadata": {
    "collapsed": true
   },
   "outputs": [],
   "source": [
    "from SmoothingLength import HsmlIter\n",
    "from scipy import spatial\n",
    "import numpy as np\n",
    "from time import time\n",
    "from numba import autojit, jit, vectorize, float32, float64\n",
    "\n",
    "@jit\n",
    "def DX(x, ngb, boxsize):\n",
    "    N, dim, des_ngb = x.shape[0], x.shape[1], ngb.shape[1]\n",
    "    dx = np.empty((N, des_ngb,dim))\n",
    "    for i in xrange(N):\n",
    "        ngbi = ngb[i]\n",
    "        for j in xrange(des_ngb):\n",
    "            xngb = x[ngbi[j]]\n",
    "            for k in xrange(dim):\n",
    "                dx[i,j,k] = xngb[k] - x[i,k]\n",
    "                if np.abs(dx[i,j,k]) > boxsize/2:\n",
    "                    dx[i,j,k] = -np.sign(dx[i,j,k])*(boxsize - np.abs(dx[i,j,k]))\n",
    "    return dx\n",
    "\n",
    "@vectorize([float32(float32), float64(float64)])\n",
    "def Kernel(q):\n",
    "    if q <= 0.5:\n",
    "        return 1 - 6*q**2 + 6*q**3\n",
    "    elif q <= 1.0:\n",
    "        return 2 * (1-q)**3\n",
    "    else: return 0.0\n",
    "\n",
    "@vectorize([float32(float32), float64(float64)])\n",
    "def DKernel(q):\n",
    "    if q <= 0.5:\n",
    "        return -12*q + 18*q*q\n",
    "    elif q <= 1.0:\n",
    "        return -6 * (1-q)**2\n",
    "    else: return 0.0\n",
    "\n",
    "@jit\n",
    "def Periodicize(dx, boxsize):\n",
    "    for i in xrange(dx.size):\n",
    "        if np.abs(dx[i]) > boxsize/2:\n",
    "            dx[i] = -np.sign(dx[i])*(boxsize - np.abs(dx[i]))\n",
    "\n",
    "@jit\n",
    "def DF(f, ngb):\n",
    "    df = np.empty(ngb.shape)\n",
    "    for i in xrange(ngb.shape[0]):\n",
    "        for j in xrange(ngb.shape[1]):\n",
    "            df[i,j] = f[ngb[i,j]] - f[i]\n",
    "    return df\n",
    "\n",
    "@jit\n",
    "def SymmetricForce(P, rho, ngb, dweights):\n",
    "    dP = DF(P, ngb)\n",
    "    N, des_ngb, dim = dweights.shape\n",
    "    F = np.zeros((N, dim))\n",
    "    for i in xrange(N):\n",
    "        for j in xrange(des_ngb):\n",
    "            n=ngb[i,j]\n",
    "            for k in xrange(dim):\n",
    "                F[i,k] -= 0.5*dweights[i,j,k]*dP[i,j]/rho[i]\n",
    "                F[n,k] -= 0.5*dweights[i,j,k]*dP[i,j]/rho[i]\n",
    "    return F\n",
    "                \n",
    "class ParticleSystem(object):\n",
    "    def __init__(self, m, x, v, u=None, A=None, des_ngb=None, gamma=5./3,boxsize=1.0): \n",
    "        self.N, self.dim = x.shape\n",
    "        if des_ngb is None:\n",
    "            des_ngb = {1: 8, 2: 20, 3:32}[self.dim]\n",
    " \n",
    "        self.volnorm = {1: 2.0, 2: np.pi, 3: 4*np.pi}[self.dim]\n",
    "        \n",
    "        self.gamma = gamma\n",
    "        \n",
    "        self.des_ngb = des_ngb\n",
    "        self.boxsize = boxsize\n",
    "        self.x = x\n",
    "        self.m = m\n",
    "        self.v = v\n",
    "\n",
    "        if u is None:\n",
    "            self.u = np.ones(self.N)\n",
    "        else:\n",
    "            self.u = u\n",
    "        #print \"Updating tree...\"\n",
    "        self.TreeUpdate()\n",
    "        \n",
    "        self.rho = self.des_ngb * self.m / (self.volnorm * self.h**self.dim)\n",
    "        self.A = (gamma - 1)*self.u / self.rho**(gamma-1) \n",
    "        #print \"Computing hydro force...\"\n",
    "        self.HydroForce()\n",
    "    \n",
    "    def Grad(self, f):\n",
    "        df = DF(f, self.ngb)\n",
    "        return np.einsum('ijk,ij->ik',self.dweights,df)\n",
    "    \n",
    "    def SymGrid(self, f):\n",
    "        df = DF(f, self.ngb)\n",
    "        return np.einsum('ijk,ij->ik',self.symweights,df)\n",
    "    \n",
    "    def TreeUpdate(self):\n",
    "        self.tree = spatial.cKDTree(self.x, boxsize=self.boxsize)\n",
    "        self.ngbdist, self.ngb = self.tree.query(self.x, self.des_ngb)\n",
    "        #print \"Computing smoothing length...\"\n",
    "\n",
    "        self.h = HsmlIter(self.ngbdist, error_norm=1e-13,dim=self.dim)\n",
    "\n",
    "        #print \"Computing grad weights...\"\n",
    "        t = time()\n",
    "        self.q = np.einsum('i,ij->ij', 1/self.h, self.ngbdist)\n",
    "    \n",
    "        self.K = Kernel(self.q)\n",
    "        self.dK = DKernel(self.q)\n",
    "        self.weights = np.einsum('ij,i->ij',self.K, 1/np.sum(self.K,axis=1))\n",
    "        \n",
    "        self.dx = self.x[self.ngb] - self.x[:,None,:]\n",
    "        Periodicize(self.dx.ravel(), self.boxsize)\n",
    "\n",
    "        dx_matrix = np.einsum('ij,ijk,ijl->ikl', self.weights, self.dx,self.dx)\n",
    "        dx_matrix = np.linalg.inv(dx_matrix)\n",
    "        self.dweights = np.einsum('ikl,ijl,ij->ijk',dx_matrix, self.dx, self.weights)\n",
    "\n",
    "        #self.divv = np.sum([self.Grad(v[:,i])[:,i] for i in xrange(self.des_ngb)])\n",
    "\n",
    "\n",
    "        \n",
    "    def HydroForce(self):\n",
    "        self.rho = self.des_ngb * self.m / (self.volnorm * self.h**self.dim)\n",
    "        self.P = self.A * self.rho**self.gamma\n",
    "        self.F2 = np.einsum('ij,i->ij',-self.Grad(self.P), 1./self.rho)\n",
    "        self.F = SymmetricForce(self.P, self.rho, self.ngb, self.dweights)\n",
    "        \n",
    "    def Timestep(self, dt):\n",
    "        self.x = self.x + self.v * dt + self.F * dt**2 / 2\n",
    "        self.x = self.x % self.boxsize % self.boxsize\n",
    "        self.v = self.v + self.F * dt / 2\n",
    "        #self.hsml_guess = self.h + dt * self.divv * self.h / self.dim\n",
    "        self.TreeUpdate()\n",
    "        self.HydroForce()\n",
    "        self.v = self.v + self.F * dt / 2"
   ]
  },
  {
   "cell_type": "code",
   "execution_count": 44,
   "metadata": {
    "collapsed": false
   },
   "outputs": [
    {
     "name": "stdout",
     "output_type": "stream",
     "text": [
      "(50, 100, 200, 400)\n",
      "50\n",
      "100\n",
      "200\n",
      "400\n"
     ]
    }
   ],
   "source": [
    "res = (50,100,200,400)\n",
    "print res\n",
    "error = []\n",
    "for N in res:\n",
    "    print N\n",
    "    x = np.array([np.arange(N,dtype=np.float64)/N]).T\n",
    "    x = x + np.array([1e-6 * np.sin(2*np.pi*x[:,0]),]).T\n",
    "    m = np.ones(N)/N\n",
    "    v = np.zeros_like(x)\n",
    "    v0 = v\n",
    "    utherm = np.ones_like(m) * 0.4\n",
    "    cs = (5./3 * 2./3 * utherm.mean())**0.5\n",
    "    \n",
    "    dtmin = 1. / 400 / cs * 0.2\n",
    "    T = 1./cs\n",
    "    nsteps = int(T/dtmin+1)\n",
    "    dt = T/nsteps\n",
    "    sys = ParticleSystem(m, x, v, utherm, des_ngb=4)\n",
    "    rho0 = sys.rho\n",
    "    for i in xrange(nsteps):\n",
    "        sys.Timestep(dt)\n",
    "\n",
    "    error.append(np.average(np.abs(sys.v - v0)))\n"
   ]
  },
  {
   "cell_type": "code",
   "execution_count": 45,
   "metadata": {
    "collapsed": false
   },
   "outputs": [
    {
     "data": {
      "text/plain": [
       "((50, 100, 200, 400),\n",
       " [2.6328256329756161e-08,\n",
       "  6.6026938109275576e-09,\n",
       "  1.649046271009425e-09,\n",
       "  4.0925559871614743e-10])"
      ]
     },
     "execution_count": 45,
     "metadata": {},
     "output_type": "execute_result"
    }
   ],
   "source": [
    "res, error"
   ]
  },
  {
   "cell_type": "code",
   "execution_count": 50,
   "metadata": {
    "collapsed": false
   },
   "outputs": [],
   "source": [
    "from matplotlib import pyplot as plt\n",
    "plt.plot(res,np.abs(error),marker='o')\n",
    "plt.plot(res,np.min(error) * (np.float_(res)/max(res))**-2.0)\n",
    "plt.loglog()\n",
    "plt.show()"
   ]
  },
  {
   "cell_type": "code",
   "execution_count": null,
   "metadata": {
    "collapsed": true
   },
   "outputs": [],
   "source": [
    "@jit\n",
    "def HexGrid(N):\n",
    "    x = np.empty((N**2,2))\n",
    "    for i in xrange(N):\n",
    "        for j in xrange(N):\n",
    "            x[i*N + j,0] = float(i)/N\n",
    "            x[i*N + j,1] = float(j)/N + 1./(np.sqrt(3)*N)*(i%2)\n",
    "    return x"
   ]
  },
  {
   "cell_type": "code",
   "execution_count": 87,
   "metadata": {
    "collapsed": false
   },
   "outputs": [
    {
     "name": "stdout",
     "output_type": "stream",
     "text": [
      "[ 0.00281957  0.58813596]\n"
     ]
    }
   ],
   "source": [
    "import h5py\n",
    "import numpy as np\n",
    "from SmoothingLength import HsmlIter\n",
    "from matplotlib import pyplot as plt\n",
    "from GridDeposit import GridSurfaceDensityPeriodic\n",
    "from scipy.spatial import cKDTree\n",
    "F = h5py.File(\"gresho_ics.hdf5\")\n",
    "u = np.float64(F[\"PartType0\"][\"InternalEnergy\"])\n",
    "x = np.float64(F[\"PartType0\"][\"Coordinates\"])[:,:2]\n",
    "m = np.float64(F[\"PartType0\"][\"Masses\"])\n",
    "v = np.float64(F[\"PartType0\"][\"Velocities\"])[:,:2]\n",
    "#plt.scatter(np.sum((x-0.5)**2,axis=1)**0.5,np.sum(v**2,axis=1)**0.5)\n",
    "#plt.show()\n",
    "sys = ParticleSystem(m, x, v, u, gamma=1.4, des_ngb=20)\n",
    "plt.scatter(np.sum((sys.x-0.5)**2,axis=1)**0.5, np.sum(sys.F**2,axis=1)**0.5)\n",
    "#plt.scatter(np.sum((sys.x-0.5)**2,axis=1)**0.5, sys.P)\n",
    "\n",
    "plt.show()\n",
    "#plt.scatter(x[:,0],x[:,1])\n",
    "#plt.xlim(0,1)\n",
    "#plt.ylim(0,1)\n",
    "#plt.show()\n",
    "t = 0\n",
    "i = 0\n",
    "dtmin = (sys.h / np.sqrt(sys.u)).min() / 10\n",
    "data = GridSurfaceDensityPeriodic(sys.m, sys.x-0.5, sys.h, 400, 1.0)\n",
    "plt.imshow(data,cmap='RdBu',vmin=0.8,vmax=1.2)\n",
    "plt.show()\n",
    "\n",
    "print sys.x[(np.abs(np.array(F[\"PartType0\"][\"Density\"]) - sys.rho)).argmax()]\n",
    "while t < 0.0:  \n",
    "    sys.Timestep(dtmin)\n",
    "\n",
    "    t += dtmin\n",
    "    i += 1\n",
    "    if i%100==0: print t\n",
    "    \n",
    "plt.clf()\n",
    "#plt.scatter(np.sum((sys.x-0.5)**2,axis=1)**0.5,np.sum(sys.F**2,axis=1)**0.5)\n",
    "#plt.xlim(0,0.5)\n",
    "#data = GridSurfaceDensityPeriodic(sys.m, sys.x, sys.h, 400, 1.0)\n",
    "#plt.imshow(data)\n",
    "#plt.show()"
   ]
  },
  {
   "cell_type": "code",
   "execution_count": null,
   "metadata": {
    "collapsed": true
   },
   "outputs": [],
   "source": [
    "plt.scatter(np.sum((sys.x-0.5)**2,axis=1)**0.5,np.sum(sys.v**2,axis=1)**0.5)\n",
    "plt.xlim(0,0.5)\n",
    "plt.show()"
   ]
  },
  {
   "cell_type": "code",
   "execution_count": null,
   "metadata": {
    "collapsed": true
   },
   "outputs": [],
   "source": [
    "from GridDeposit import Grid"
   ]
  },
  {
   "cell_type": "code",
   "execution_count": null,
   "metadata": {
    "collapsed": false
   },
   "outputs": [],
   "source": []
  },
  {
   "cell_type": "code",
   "execution_count": null,
   "metadata": {
    "collapsed": true
   },
   "outputs": [],
   "source": [
    "((5./3 * (5./3 - 1)) * 0.4)**0.5"
   ]
  },
  {
   "cell_type": "code",
   "execution_count": null,
   "metadata": {
    "collapsed": true
   },
   "outputs": [],
   "source": [
    "(2./3)**0.5"
   ]
  },
  {
   "cell_type": "code",
   "execution_count": null,
   "metadata": {
    "collapsed": false
   },
   "outputs": [],
   "source": []
  }
 ],
 "metadata": {
  "kernelspec": {
   "display_name": "Python 2",
   "language": "python",
   "name": "python2"
  },
  "language_info": {
   "codemirror_mode": {
    "name": "ipython",
    "version": 2
   },
   "file_extension": ".py",
   "mimetype": "text/x-python",
   "name": "python",
   "nbconvert_exporter": "python",
   "pygments_lexer": "ipython2",
   "version": "2.7.11"
  }
 },
 "nbformat": 4,
 "nbformat_minor": 0
}
