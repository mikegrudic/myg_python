{
 "cells": [
  {
   "cell_type": "code",
   "execution_count": 2,
   "metadata": {
    "collapsed": false
   },
   "outputs": [],
   "source": [
    "from numba import jit, vectorize, float32, float64\n",
    "import numpy as np\n",
    "from scipy import spatial, integrate, optimize\n",
    "from matplotlib import pyplot as plt\n",
    "from SmoothingLength import HsmlIter\n",
    "\n",
    "@vectorize([float32(float32), float64(float64)])\n",
    "def Kernel3D(q):\n",
    "    if q <= 0.5:\n",
    "        return 2.5464790894703255 * (1 - 6*q**2 + 6*q**3)\n",
    "    elif q <= 1.0:\n",
    "        return 2.5464790894703255 * 2 * (1-q)**3\n",
    "    else: return 0.0\n",
    "    \n",
    "@vectorize([float32(float32), float64(float64)])\n",
    "def DKernel3D(q):\n",
    "    if q <= 0.5:\n",
    "        return 2.5464790894703255 * (-12*q + 18*q**2)\n",
    "    elif q <= 1.0:\n",
    "        return -2.5464790894703255 * 6 * (1-q)**2\n",
    "    else: return 0.0"
   ]
  },
  {
   "cell_type": "code",
   "execution_count": 2,
   "metadata": {
    "collapsed": false
   },
   "outputs": [
    {
     "name": "stderr",
     "output_type": "stream",
     "text": [
      "C:\\Users\\Pika\\Anaconda2\\lib\\site-packages\\ipykernel\\__main__.py:257: DeprecationWarning: using a non-integer number instead of an integer will result in an error in the future\n"
     ]
    },
    {
     "name": "stdout",
     "output_type": "stream",
     "text": [
      "10 loops, best of 3: 20.2 ms per loop\n"
     ]
    }
   ],
   "source": [
    "%timeit Kernel3D(np.random.rand(1e6))"
   ]
  },
  {
   "cell_type": "code",
   "execution_count": 6,
   "metadata": {
    "collapsed": false
   },
   "outputs": [
    {
     "name": "stdout",
     "output_type": "stream",
     "text": [
      "1.29097293252e-05\n"
     ]
    }
   ],
   "source": [
    "N=  1000\n",
    "#x = np.random.rand(N,1)**0.5\n",
    "#x = (np.arange(32)/32.)\n",
    "#x = x + 0.001*np.sin(2*np.pi*x)\n",
    "#y = np.arange(32)/32.\n",
    "#x,y,z = np.meshgrid(x,y,y)\n",
    "#x = np.c_[x.flatten(),y.flatten(),z.flatten()]\n",
    "#x = (x)%1.0\n",
    "dtmin = (5./3)**0.5 / N / 100\n",
    "T = 1./(5./3)**0.5\n",
    "nsteps = int(T/dtmin+1)\n",
    "dt = T/nsteps\n",
    "print dt\n",
    "m = np.ones(N)/N\n",
    "gamma = 5./3\n",
    "x = np.array([np.arange(0,1000)/1000.,]).T \n",
    "x += 0.001*np.sin(2*np.pi*x)\n",
    "x = x % 1.0\n",
    "#tree = spatial.cKDTree(x,boxsize=1.0)\n",
    "des_ngb = 8\n",
    "v = np.zeros_like(x)"
   ]
  },
  {
   "cell_type": "code",
   "execution_count": 4,
   "metadata": {
    "collapsed": false
   },
   "outputs": [
    {
     "ename": "NameError",
     "evalue": "name 'x' is not defined",
     "output_type": "error",
     "traceback": [
      "\u001b[1;31m---------------------------------------------------------------------------\u001b[0m",
      "\u001b[1;31mNameError\u001b[0m                                 Traceback (most recent call last)",
      "\u001b[1;32m<ipython-input-4-f677542a997b>\u001b[0m in \u001b[0;36m<module>\u001b[1;34m()\u001b[0m\n\u001b[1;32m----> 1\u001b[1;33m \u001b[0mtree\u001b[0m \u001b[1;33m=\u001b[0m \u001b[0mspatial\u001b[0m\u001b[1;33m.\u001b[0m\u001b[0mcKDTree\u001b[0m\u001b[1;33m(\u001b[0m\u001b[0mx\u001b[0m\u001b[1;33m,\u001b[0m \u001b[0mboxsize\u001b[0m\u001b[1;33m=\u001b[0m\u001b[1;36m1.0\u001b[0m\u001b[1;33m)\u001b[0m\u001b[1;33m\u001b[0m\u001b[0m\n\u001b[0m\u001b[0;32m      2\u001b[0m \u001b[0mngbdist\u001b[0m\u001b[1;33m,\u001b[0m \u001b[0mngb\u001b[0m \u001b[1;33m=\u001b[0m \u001b[0mtree\u001b[0m\u001b[1;33m.\u001b[0m\u001b[0mquery\u001b[0m\u001b[1;33m(\u001b[0m\u001b[0mx\u001b[0m\u001b[1;33m,\u001b[0m\u001b[0mdes_ngb\u001b[0m\u001b[1;33m)\u001b[0m\u001b[1;33m\u001b[0m\u001b[0m\n\u001b[0;32m      3\u001b[0m \u001b[0mh\u001b[0m \u001b[1;33m=\u001b[0m \u001b[0mHsmlIter\u001b[0m\u001b[1;33m(\u001b[0m\u001b[0mngb\u001b[0m\u001b[1;33m,\u001b[0m\u001b[0mngbdist\u001b[0m\u001b[1;33m,\u001b[0m \u001b[0merror_norm\u001b[0m\u001b[1;33m=\u001b[0m\u001b[1;36m1e-12\u001b[0m\u001b[1;33m,\u001b[0m\u001b[0mdim\u001b[0m\u001b[1;33m=\u001b[0m\u001b[1;36m1\u001b[0m\u001b[1;33m)\u001b[0m\u001b[1;33m\u001b[0m\u001b[0m\n\u001b[0;32m      4\u001b[0m \u001b[0mrho\u001b[0m \u001b[1;33m=\u001b[0m \u001b[0mm\u001b[0m \u001b[1;33m*\u001b[0m \u001b[0mdes_ngb\u001b[0m \u001b[1;33m/\u001b[0m \u001b[1;33m(\u001b[0m\u001b[1;36m2\u001b[0m\u001b[1;33m*\u001b[0m\u001b[0mh\u001b[0m\u001b[1;33m)\u001b[0m\u001b[1;33m\u001b[0m\u001b[0m\n\u001b[0;32m      5\u001b[0m \u001b[0mq\u001b[0m \u001b[1;33m=\u001b[0m \u001b[0mngbdist\u001b[0m\u001b[1;33m/\u001b[0m\u001b[0mh\u001b[0m\u001b[1;33m[\u001b[0m\u001b[1;33m:\u001b[0m\u001b[1;33m,\u001b[0m\u001b[0mnp\u001b[0m\u001b[1;33m.\u001b[0m\u001b[0mnewaxis\u001b[0m\u001b[1;33m]\u001b[0m\u001b[1;33m\u001b[0m\u001b[0m\n",
      "\u001b[1;31mNameError\u001b[0m: name 'x' is not defined"
     ]
    }
   ],
   "source": [
    "tree = spatial.cKDTree(x, boxsize=1.0)\n",
    "ngbdist, ngb = tree.query(x,des_ngb)\n",
    "h = HsmlIter(ngb,ngbdist, error_norm=1e-12,dim=1)\n",
    "rho = m * des_ngb / (2*h)\n",
    "q = ngbdist/h[:,np.newaxis]\n",
    "K = Kernel3D(q)\n",
    "dK = DKernel3D(q)\n",
    "FI = (1 + h / (3*rho) * np.sum((-m[:,np.newaxis]*h[:,np.newaxis]**-4 * (dK *q + 3*K)),axis=1))**-1\n",
    "F = HydroForce(x,m,FI, K, dK, rho, h, ngb, ngbdist)\n",
    "v += F * dt\n",
    "x += v * dt"
   ]
  },
  {
   "cell_type": "code",
   "execution_count": null,
   "metadata": {
    "collapsed": false
   },
   "outputs": [
    {
     "name": "stdout",
     "output_type": "stream",
     "text": [
      "0\n",
      "100\n",
      "200\n",
      "300\n",
      "400\n",
      "500\n",
      "600\n",
      "700\n",
      "800\n",
      "900\n"
     ]
    }
   ],
   "source": [
    "e = []\n",
    "for i in xrange(1000):\n",
    "    if i%100 == 0: print i\n",
    "    tree = spatial.cKDTree(x, boxsize=1.0)\n",
    "    ngbdist, ngb = tree.query(x,des_ngb)\n",
    "    h = HsmlIter(ngb,ngbdist, error_norm=1e-12,dim=1)\n",
    "    rho = m * des_ngb / (2*h)\n",
    "    q = ngbdist/h[:,np.newaxis]\n",
    "    K = Kernel3D(q)\n",
    "    dK = DKernel3D(q)\n",
    "    FI = (1 + h / (3*rho) * np.sum((-m[:,np.newaxis]*h[:,np.newaxis]**-4 * (dK *q + 3*K)),axis=1))**-1\n",
    "    F = HydroForce(x,m,FI, K, dK, rho, h, ngb, ngbdist)\n",
    "    v += F * dt\n",
    "    x += v * dt\n",
    "    x = x % 1.0\n",
    "    \n",
    "    e.append(np.sum(0.5*m*v**2) + np.sum(3./2 * rho**(5./3)))\n",
    "plt.plot(e)\n",
    "plt.yscale('log')\n",
    "plt.show()\n",
    "#if i % (nsteps/10)==0:\n",
    "    #if i%10==0:\n",
    "    #    plt.scatter(x[:,0],v[:,0])\n",
    "    #\n",
    "#plt.scatter(x[:,0][(x[:,1]==0.0)*(x[:,2]==0.0)], )\n",
    "        #plt.show()"
   ]
  },
  {
   "cell_type": "code",
   "execution_count": 3,
   "metadata": {
    "collapsed": false
   },
   "outputs": [],
   "source": [
    "@jit\n",
    "def HydroForce(x, m, f, K, dK, rho, h, ngb, ngbdist):\n",
    "    A = 1.0\n",
    "    N, dim = x.shape\n",
    "    Nngb = ngb.shape[1]\n",
    "    a = np.zeros_like(x)\n",
    "    for i in xrange(N):\n",
    "        ngbi = ngb[i]\n",
    "        xngb = x[ngbi]\n",
    "        mngb = m[ngbi]\n",
    "        hngb = h[ngbi]\n",
    "        rngb = ngbdist[i]\n",
    "        fngb = f[ngbi]\n",
    "        Ki = K[i]\n",
    "        dKi = dK[i]\n",
    "        hi = h[i]\n",
    "        fi = f[i]\n",
    "        rhoi = rho[i]\n",
    "        for j in xrange(1,Nngb):\n",
    "            atot = mngb[j] * (fi * A * rhoi**(gamma-2.0)) * dKi[j] / hi**4 \n",
    "            + fngb[j] * A * rho[ngbi[j]]**(gamma-2.0) * DKernel3D(rngb[j]/h[ngbi[j]]) / h[ngbi[j]]**4\n",
    "            #atot = mngb[j] * (rhoi**(gamma-2.0) + rho[ngbi[j]]**(gamma-2.0)) * dKi[j] / hi**4.0\n",
    "            for k in xrange(dim):\n",
    "                dx1 = xngb[j,k] - xngb[0,k]\n",
    "                dx2 = -np.sign(dx1) * (1.0 - np.abs(dx1))\n",
    "                if np.abs(dx1) < np.abs(dx2):\n",
    "                    dx = dx1\n",
    "                else:\n",
    "                    dx = dx2\n",
    "                a[i,k] += atot*dx/rngb[j]\n",
    "                \n",
    "    return a\n",
    "@jit\n",
    "def KernelSum(f,r,h):\n",
    "    return np.sum(f*Kernel3D(r/h)/h**3)"
   ]
  },
  {
   "cell_type": "code",
   "execution_count": null,
   "metadata": {
    "collapsed": false
   },
   "outputs": [],
   "source": [
    "KernelSum(m[ngb[0]], ngbdist[0], h[0])/ rho[0]"
   ]
  },
  {
   "cell_type": "code",
   "execution_count": null,
   "metadata": {
    "collapsed": false
   },
   "outputs": [],
   "source": [
    "plt.loglog(np.logspace(2,7,5), (392e-6,5e-3,64e-3,0.917,13.7))\n",
    "plt.loglog(np.logspace(2,7,5), 392e-6*np.logspace(2,7,5)*np.log10(np.logspace(2,7,5)/100))\n",
    "plt.show()"
   ]
  },
  {
   "cell_type": "code",
   "execution_count": null,
   "metadata": {
    "collapsed": false
   },
   "outputs": [],
   "source": [
    "optimize.curve_fit(lambda x, a, b: a*x + b, np.linspace(2,7,5), np.log10((392e-6,5e-3,64e-3,0.917,13.7)))"
   ]
  },
  {
   "cell_type": "code",
   "execution_count": null,
   "metadata": {
    "collapsed": false
   },
   "outputs": [],
   "source": [
    "plt.plot(np.linspace(0,1,100), DKernel3D(np.linspace(0,1,100))); plt.show()"
   ]
  },
  {
   "cell_type": "code",
   "execution_count": null,
   "metadata": {
    "collapsed": false
   },
   "outputs": [],
   "source": [
    "(10**6/10**2)**2"
   ]
  },
  {
   "cell_type": "code",
   "execution_count": null,
   "metadata": {
    "collapsed": true
   },
   "outputs": [],
   "source": []
  }
 ],
 "metadata": {
  "kernelspec": {
   "display_name": "Python 2",
   "language": "python",
   "name": "python2"
  },
  "language_info": {
   "codemirror_mode": {
    "name": "ipython",
    "version": 2
   },
   "file_extension": ".py",
   "mimetype": "text/x-python",
   "name": "python",
   "nbconvert_exporter": "python",
   "pygments_lexer": "ipython2",
   "version": "2.7.11"
  }
 },
 "nbformat": 4,
 "nbformat_minor": 0
}
